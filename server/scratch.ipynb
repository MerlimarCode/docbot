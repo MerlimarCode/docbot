{
 "cells": [
  {
   "cell_type": "code",
   "execution_count": 42,
   "metadata": {},
   "outputs": [],
   "source": [
    "import weaviate\n",
    "import json\n",
    "import weaviate\n",
    "import weaviate.classes as wvc\n",
    "import os\n",
    "\n",
    "import langchain\n",
    "import cohere\n",
    "from langchain.embeddings import CohereEmbeddings\n",
    "from langchain.vectorstores import Weaviate\n",
    "from langchain.schema.document import Document\n",
    "\n",
    "from dotenv import load_dotenv\n",
    "\n",
    "load_dotenv()\n",
    "COHERE_API_KEY = os.getenv(\"COHERE_API_KEY\")\n",
    "\n",
    "# client = weaviate.Client(\n",
    "#     url = \"http://localhost:8080\",  # Replace with your endpoint\n",
    "#     additional_headers = {\n",
    "#         \"X-Cohere-Api-Key\": COHERE_API_KEY,\n",
    "#     }\n",
    "# )\n",
    "# print(\"Weaviate version:\", weaviate.__version__)"
   ]
  },
  {
   "cell_type": "code",
   "execution_count": 43,
   "metadata": {},
   "outputs": [
    {
     "name": "stdout",
     "output_type": "stream",
     "text": [
      "pCloNmMvKU5moXPFM9ZhfLESO1il5E2bpzvGUTaX\n"
     ]
    }
   ],
   "source": [
    "print(COHERE_API_KEY)"
   ]
  },
  {
   "cell_type": "code",
   "execution_count": 44,
   "metadata": {},
   "outputs": [],
   "source": [
    "client = weaviate.connect_to_local(port=8080, \n",
    "                                   grpc_port=50051,\n",
    "                                   headers={\n",
    "                                              \"X-Cohere-Api-Key\": COHERE_API_KEY,\n",
    " \n",
    "                                   })\n",
    "\n"
   ]
  },
  {
   "cell_type": "code",
   "execution_count": 45,
   "metadata": {},
   "outputs": [],
   "source": [
    "\n",
    "if (client.collections.exists(\"Article\")):\n",
    "  # delete collection \"Article\" - THIS WILL DELETE THE COLLECTION AND ALL ITS DATA\n",
    "  client.collections.delete(\"Article\")  # Replace with your collection name\n",
    "\n",
    "\n",
    "embeddings = CohereEmbeddings(cohere_api_key=COHERE_API_KEY, model=\"embed-english-v3.0\")\n",
    "test_documents = [\n",
    "    \"Rust is the most loved programming language\",\n",
    "    \"Python is an interpreted programming language\", \n",
    "    \"Pythons are reptiles\", \n",
    "    \"programming is a lucrative career in the 21st century\"\n",
    "]"
   ]
  },
  {
   "cell_type": "code",
   "execution_count": 46,
   "metadata": {},
   "outputs": [
    {
     "data": {
      "text/plain": [
       "'client = weaviate.Client(\\n    embedded_options=weaviate.EmbeddedOptions(port=8080),\\n    additional_headers={\\n        \"X-Cohere-Api-Key\": COHERE_API_KEY,\\n    }\\n)'"
      ]
     },
     "execution_count": 46,
     "metadata": {},
     "output_type": "execute_result"
    }
   ],
   "source": [
    "\n",
    "embeddings = CohereEmbeddings(cohere_api_key=COHERE_API_KEY, model=\"embed-english-v3.0\")\n",
    "test_documents = [\n",
    "    \"Rust is the most loved programming language\",\n",
    "    \"Python is an interpreted programming language\", \n",
    "    \"Pythons are reptiles\", \n",
    "    \"programming is a lucrative career in the 21st century\"\n",
    "]\n",
    "\n",
    "'''client = weaviate.Client(\n",
    "    embedded_options=weaviate.EmbeddedOptions(port=8080),\n",
    "    additional_headers={\n",
    "        \"X-Cohere-Api-Key\": COHERE_API_KEY,\n",
    "    }\n",
    ")'''"
   ]
  },
  {
   "cell_type": "code",
   "execution_count": 47,
   "metadata": {},
   "outputs": [],
   "source": [
    "if (client.collections.exists(\"Test_Database\")):\n",
    "  # delete collection \"Article\" - THIS WILL DELETE THE COLLECTION AND ALL ITS DATA\n",
    "  client.collections.delete(\"Test_Database\")  # Replace with your collection name\n",
    "\n"
   ]
  },
  {
   "cell_type": "code",
   "execution_count": 48,
   "metadata": {},
   "outputs": [],
   "source": [
    "vectorstore = client.collections.create(\n",
    "    name=\"Test_Database\",\n",
    "    vectorizer_config=wvc.Configure.Vectorizer.text2vec_cohere(),  # If set to \"none\" you must always provide vectors yourself. Could be any other \"text2vec-*\" also.\n",
    "    generative_config=wvc.Configure.Generative.cohere()  # Ensure the `generative-openai` module is used for generative queries\n",
    ")"
   ]
  },
  {
   "cell_type": "code",
   "execution_count": 49,
   "metadata": {},
   "outputs": [],
   "source": [
    "document_embeddings = embeddings.embed_documents(test_documents)\n",
    "\n",
    "objs = []\n",
    "for i, (d,e) in enumerate(zip(test_documents, document_embeddings)):\n",
    "    objs.append(wvc.DataObject(\n",
    "        properties={\n",
    "            \"text\": d,\n",
    "            \"index\": i,\n",
    "        },\n",
    "        vector=e\n",
    "    ))\n"
   ]
  },
  {
   "cell_type": "code",
   "execution_count": 50,
   "metadata": {},
   "outputs": [
    {
     "data": {
      "text/plain": [
       "BatchObjectReturn(all_responses=[UUID('65a23d3d-9685-4db7-b691-b046c9ac69ab'), UUID('9580e0c3-86bc-4538-b6c3-c7c995c6ea3d'), UUID('14397363-fbd2-4111-9483-398bb74405cb'), UUID('25784f11-31cc-420d-a5b6-d3612e1842c3')], uuids={0: UUID('65a23d3d-9685-4db7-b691-b046c9ac69ab'), 1: UUID('9580e0c3-86bc-4538-b6c3-c7c995c6ea3d'), 2: UUID('14397363-fbd2-4111-9483-398bb74405cb'), 3: UUID('25784f11-31cc-420d-a5b6-d3612e1842c3')}, errors={}, elapsed_seconds=0.005797863006591797, has_errors=False)"
      ]
     },
     "execution_count": 50,
     "metadata": {},
     "output_type": "execute_result"
    }
   ],
   "source": [
    "vectorstore = client.collections.get(\"Test_Database\")\n",
    "\n",
    "vectorstore.data.insert_many(objs)    # This uses batching under the hood\n"
   ]
  },
  {
   "cell_type": "code",
   "execution_count": 51,
   "metadata": {},
   "outputs": [
    {
     "ename": "WeaviateQueryException",
     "evalue": "Query call failed with message explorer: get class: vectorize params: vectorize params: vectorize params: vectorize keywords: remote client vectorize: Cohere API Key: no api key found neither in request header: X-Cohere-Api-Key nor in environment variable under COHERE_APIKEY.",
     "output_type": "error",
     "traceback": [
      "\u001b[0;31m---------------------------------------------------------------------------\u001b[0m",
      "\u001b[0;31m_InactiveRpcError\u001b[0m                         Traceback (most recent call last)",
      "File \u001b[0;32m~/miniconda3/lib/python3.10/site-packages/weaviate/collections/grpc/query.py:443\u001b[0m, in \u001b[0;36m_QueryGRPC.__call\u001b[0;34m(self)\u001b[0m\n\u001b[1;32m    442\u001b[0m res: SearchResponse  \u001b[39m# According to PEP-0526\u001b[39;00m\n\u001b[0;32m--> 443\u001b[0m res, _ \u001b[39m=\u001b[39m \u001b[39mself\u001b[39;49m\u001b[39m.\u001b[39;49m_connection\u001b[39m.\u001b[39;49mgrpc_stub\u001b[39m.\u001b[39;49mSearch\u001b[39m.\u001b[39;49mwith_call(\n\u001b[1;32m    444\u001b[0m     search_get_pb2\u001b[39m.\u001b[39;49mSearchRequest(\n\u001b[1;32m    445\u001b[0m         collection\u001b[39m=\u001b[39;49m\u001b[39mself\u001b[39;49m\u001b[39m.\u001b[39;49m_name,\n\u001b[1;32m    446\u001b[0m         limit\u001b[39m=\u001b[39;49m\u001b[39mself\u001b[39;49m\u001b[39m.\u001b[39;49m_limit,\n\u001b[1;32m    447\u001b[0m         offset\u001b[39m=\u001b[39;49m\u001b[39mself\u001b[39;49m\u001b[39m.\u001b[39;49m_offset,\n\u001b[1;32m    448\u001b[0m         after\u001b[39m=\u001b[39;49m\u001b[39mstr\u001b[39;49m(\u001b[39mself\u001b[39;49m\u001b[39m.\u001b[39;49m_after) \u001b[39mif\u001b[39;49;00m \u001b[39mself\u001b[39;49m\u001b[39m.\u001b[39;49m_after \u001b[39mis\u001b[39;49;00m \u001b[39mnot\u001b[39;49;00m \u001b[39mNone\u001b[39;49;00m \u001b[39melse\u001b[39;49;00m \u001b[39m\"\u001b[39;49m\u001b[39m\"\u001b[39;49m,\n\u001b[1;32m    449\u001b[0m         autocut\u001b[39m=\u001b[39;49m\u001b[39mself\u001b[39;49m\u001b[39m.\u001b[39;49m_autocut,\n\u001b[1;32m    450\u001b[0m         near_vector\u001b[39m=\u001b[39;49msearch_get_pb2\u001b[39m.\u001b[39;49mNearVector(\n\u001b[1;32m    451\u001b[0m             vector\u001b[39m=\u001b[39;49m\u001b[39mself\u001b[39;49m\u001b[39m.\u001b[39;49m_near_vector_vec,\n\u001b[1;32m    452\u001b[0m             certainty\u001b[39m=\u001b[39;49m\u001b[39mself\u001b[39;49m\u001b[39m.\u001b[39;49m_near_certainty,\n\u001b[1;32m    453\u001b[0m             distance\u001b[39m=\u001b[39;49m\u001b[39mself\u001b[39;49m\u001b[39m.\u001b[39;49m_near_distance,\n\u001b[1;32m    454\u001b[0m         )\n\u001b[1;32m    455\u001b[0m         \u001b[39mif\u001b[39;49;00m \u001b[39mself\u001b[39;49m\u001b[39m.\u001b[39;49m_near_vector_vec \u001b[39mis\u001b[39;49;00m \u001b[39mnot\u001b[39;49;00m \u001b[39mNone\u001b[39;49;00m\n\u001b[1;32m    456\u001b[0m         \u001b[39melse\u001b[39;49;00m \u001b[39mNone\u001b[39;49;00m,\n\u001b[1;32m    457\u001b[0m         near_object\u001b[39m=\u001b[39;49msearch_get_pb2\u001b[39m.\u001b[39;49mNearObject(\n\u001b[1;32m    458\u001b[0m             \u001b[39mid\u001b[39;49m\u001b[39m=\u001b[39;49m\u001b[39mstr\u001b[39;49m(\u001b[39mself\u001b[39;49m\u001b[39m.\u001b[39;49m_near_object_obj),\n\u001b[1;32m    459\u001b[0m             certainty\u001b[39m=\u001b[39;49m\u001b[39mself\u001b[39;49m\u001b[39m.\u001b[39;49m_near_certainty,\n\u001b[1;32m    460\u001b[0m             distance\u001b[39m=\u001b[39;49m\u001b[39mself\u001b[39;49m\u001b[39m.\u001b[39;49m_near_distance,\n\u001b[1;32m    461\u001b[0m         )\n\u001b[1;32m    462\u001b[0m         \u001b[39mif\u001b[39;49;00m \u001b[39mself\u001b[39;49m\u001b[39m.\u001b[39;49m_near_object_obj \u001b[39mis\u001b[39;49;00m \u001b[39mnot\u001b[39;49;00m \u001b[39mNone\u001b[39;49;00m\n\u001b[1;32m    463\u001b[0m         \u001b[39melse\u001b[39;49;00m \u001b[39mNone\u001b[39;49;00m,\n\u001b[1;32m    464\u001b[0m         properties\u001b[39m=\u001b[39;49m\u001b[39mself\u001b[39;49m\u001b[39m.\u001b[39;49m_translate_properties_from_python_to_grpc(\u001b[39mself\u001b[39;49m\u001b[39m.\u001b[39;49m_default_props),\n\u001b[1;32m    465\u001b[0m         metadata\u001b[39m=\u001b[39;49m\u001b[39mself\u001b[39;49m\u001b[39m.\u001b[39;49m_metadata_to_grpc(\u001b[39mself\u001b[39;49m\u001b[39m.\u001b[39;49m_metadata)\n\u001b[1;32m    466\u001b[0m         \u001b[39mif\u001b[39;49;00m \u001b[39mself\u001b[39;49m\u001b[39m.\u001b[39;49m_metadata \u001b[39mis\u001b[39;49;00m \u001b[39mnot\u001b[39;49;00m \u001b[39mNone\u001b[39;49;00m\n\u001b[1;32m    467\u001b[0m         \u001b[39melse\u001b[39;49;00m \u001b[39mNone\u001b[39;49;00m,\n\u001b[1;32m    468\u001b[0m         bm25_search\u001b[39m=\u001b[39;49msearch_get_pb2\u001b[39m.\u001b[39;49mBM25(\n\u001b[1;32m    469\u001b[0m             properties\u001b[39m=\u001b[39;49m\u001b[39mself\u001b[39;49m\u001b[39m.\u001b[39;49m_bm25_properties, query\u001b[39m=\u001b[39;49m\u001b[39mself\u001b[39;49m\u001b[39m.\u001b[39;49m_bm25_query\n\u001b[1;32m    470\u001b[0m         )\n\u001b[1;32m    471\u001b[0m         \u001b[39mif\u001b[39;49;00m \u001b[39mself\u001b[39;49m\u001b[39m.\u001b[39;49m_bm25_query \u001b[39mis\u001b[39;49;00m \u001b[39mnot\u001b[39;49;00m \u001b[39mNone\u001b[39;49;00m\n\u001b[1;32m    472\u001b[0m         \u001b[39melse\u001b[39;49;00m \u001b[39mNone\u001b[39;49;00m,\n\u001b[1;32m    473\u001b[0m         hybrid_search\u001b[39m=\u001b[39;49msearch_get_pb2\u001b[39m.\u001b[39;49mHybrid(\n\u001b[1;32m    474\u001b[0m             properties\u001b[39m=\u001b[39;49m\u001b[39mself\u001b[39;49m\u001b[39m.\u001b[39;49m_hybrid_properties,\n\u001b[1;32m    475\u001b[0m             query\u001b[39m=\u001b[39;49m\u001b[39mself\u001b[39;49m\u001b[39m.\u001b[39;49m_hybrid_query,\n\u001b[1;32m    476\u001b[0m             alpha\u001b[39m=\u001b[39;49m\u001b[39mself\u001b[39;49m\u001b[39m.\u001b[39;49m_hybrid_alpha,\n\u001b[1;32m    477\u001b[0m             vector\u001b[39m=\u001b[39;49m\u001b[39mself\u001b[39;49m\u001b[39m.\u001b[39;49m_hybrid_vector,\n\u001b[1;32m    478\u001b[0m             fusion_type\u001b[39m=\u001b[39;49mcast(\n\u001b[1;32m    479\u001b[0m                 search_get_pb2\u001b[39m.\u001b[39;49mHybrid\u001b[39m.\u001b[39;49mFusionType, \u001b[39mself\u001b[39;49m\u001b[39m.\u001b[39;49m_hybrid_fusion_type\n\u001b[1;32m    480\u001b[0m             ),\n\u001b[1;32m    481\u001b[0m         )\n\u001b[1;32m    482\u001b[0m         \u001b[39mif\u001b[39;49;00m \u001b[39mself\u001b[39;49m\u001b[39m.\u001b[39;49m_hybrid_query \u001b[39mis\u001b[39;49;00m \u001b[39mnot\u001b[39;49;00m \u001b[39mNone\u001b[39;49;00m\n\u001b[1;32m    483\u001b[0m         \u001b[39melse\u001b[39;49;00m \u001b[39mNone\u001b[39;49;00m,\n\u001b[1;32m    484\u001b[0m         tenant\u001b[39m=\u001b[39;49m\u001b[39mself\u001b[39;49m\u001b[39m.\u001b[39;49m_tenant,\n\u001b[1;32m    485\u001b[0m         filters\u001b[39m=\u001b[39;49m_FilterToGRPC\u001b[39m.\u001b[39;49mconvert(\u001b[39mself\u001b[39;49m\u001b[39m.\u001b[39;49m_filters),\n\u001b[1;32m    486\u001b[0m         near_text\u001b[39m=\u001b[39;49msearch_get_pb2\u001b[39m.\u001b[39;49mNearTextSearch(\n\u001b[1;32m    487\u001b[0m             query\u001b[39m=\u001b[39;49m\u001b[39mself\u001b[39;49m\u001b[39m.\u001b[39;49m_near_text,\n\u001b[1;32m    488\u001b[0m             certainty\u001b[39m=\u001b[39;49m\u001b[39mself\u001b[39;49m\u001b[39m.\u001b[39;49m_near_certainty,\n\u001b[1;32m    489\u001b[0m             distance\u001b[39m=\u001b[39;49m\u001b[39mself\u001b[39;49m\u001b[39m.\u001b[39;49m_near_distance,\n\u001b[1;32m    490\u001b[0m             move_to\u001b[39m=\u001b[39;49m\u001b[39mself\u001b[39;49m\u001b[39m.\u001b[39;49m_near_text_move_to,\n\u001b[1;32m    491\u001b[0m             move_away\u001b[39m=\u001b[39;49m\u001b[39mself\u001b[39;49m\u001b[39m.\u001b[39;49m_near_text_move_away,\n\u001b[1;32m    492\u001b[0m         )\n\u001b[1;32m    493\u001b[0m         \u001b[39mif\u001b[39;49;00m \u001b[39mself\u001b[39;49m\u001b[39m.\u001b[39;49m_near_text \u001b[39mis\u001b[39;49;00m \u001b[39mnot\u001b[39;49;00m \u001b[39mNone\u001b[39;49;00m\n\u001b[1;32m    494\u001b[0m         \u001b[39melse\u001b[39;49;00m \u001b[39mNone\u001b[39;49;00m,\n\u001b[1;32m    495\u001b[0m         near_image\u001b[39m=\u001b[39;49msearch_get_pb2\u001b[39m.\u001b[39;49mNearImageSearch(\n\u001b[1;32m    496\u001b[0m             image\u001b[39m=\u001b[39;49m\u001b[39mself\u001b[39;49m\u001b[39m.\u001b[39;49m_near_image,\n\u001b[1;32m    497\u001b[0m             distance\u001b[39m=\u001b[39;49m\u001b[39mself\u001b[39;49m\u001b[39m.\u001b[39;49m_near_distance,\n\u001b[1;32m    498\u001b[0m             certainty\u001b[39m=\u001b[39;49m\u001b[39mself\u001b[39;49m\u001b[39m.\u001b[39;49m_near_certainty,\n\u001b[1;32m    499\u001b[0m         )\n\u001b[1;32m    500\u001b[0m         \u001b[39mif\u001b[39;49;00m \u001b[39mself\u001b[39;49m\u001b[39m.\u001b[39;49m_near_image \u001b[39mis\u001b[39;49;00m \u001b[39mnot\u001b[39;49;00m \u001b[39mNone\u001b[39;49;00m\n\u001b[1;32m    501\u001b[0m         \u001b[39melse\u001b[39;49;00m \u001b[39mNone\u001b[39;49;00m,\n\u001b[1;32m    502\u001b[0m         near_video\u001b[39m=\u001b[39;49msearch_get_pb2\u001b[39m.\u001b[39;49mNearVideoSearch(\n\u001b[1;32m    503\u001b[0m             video\u001b[39m=\u001b[39;49m\u001b[39mself\u001b[39;49m\u001b[39m.\u001b[39;49m_near_video,\n\u001b[1;32m    504\u001b[0m             distance\u001b[39m=\u001b[39;49m\u001b[39mself\u001b[39;49m\u001b[39m.\u001b[39;49m_near_distance,\n\u001b[1;32m    505\u001b[0m             certainty\u001b[39m=\u001b[39;49m\u001b[39mself\u001b[39;49m\u001b[39m.\u001b[39;49m_near_certainty,\n\u001b[1;32m    506\u001b[0m         )\n\u001b[1;32m    507\u001b[0m         \u001b[39mif\u001b[39;49;00m \u001b[39mself\u001b[39;49m\u001b[39m.\u001b[39;49m_near_video \u001b[39mis\u001b[39;49;00m \u001b[39mnot\u001b[39;49;00m \u001b[39mNone\u001b[39;49;00m\n\u001b[1;32m    508\u001b[0m         \u001b[39melse\u001b[39;49;00m \u001b[39mNone\u001b[39;49;00m,\n\u001b[1;32m    509\u001b[0m         near_audio\u001b[39m=\u001b[39;49msearch_get_pb2\u001b[39m.\u001b[39;49mNearAudioSearch(\n\u001b[1;32m    510\u001b[0m             audio\u001b[39m=\u001b[39;49m\u001b[39mself\u001b[39;49m\u001b[39m.\u001b[39;49m_near_audio,\n\u001b[1;32m    511\u001b[0m             distance\u001b[39m=\u001b[39;49m\u001b[39mself\u001b[39;49m\u001b[39m.\u001b[39;49m_near_distance,\n\u001b[1;32m    512\u001b[0m             certainty\u001b[39m=\u001b[39;49m\u001b[39mself\u001b[39;49m\u001b[39m.\u001b[39;49m_near_certainty,\n\u001b[1;32m    513\u001b[0m         )\n\u001b[1;32m    514\u001b[0m         \u001b[39mif\u001b[39;49;00m \u001b[39mself\u001b[39;49m\u001b[39m.\u001b[39;49m_near_audio \u001b[39mis\u001b[39;49;00m \u001b[39mnot\u001b[39;49;00m \u001b[39mNone\u001b[39;49;00m\n\u001b[1;32m    515\u001b[0m         \u001b[39melse\u001b[39;49;00m \u001b[39mNone\u001b[39;49;00m,\n\u001b[1;32m    516\u001b[0m         consistency_level\u001b[39m=\u001b[39;49m\u001b[39mself\u001b[39;49m\u001b[39m.\u001b[39;49m_consistency_level,\n\u001b[1;32m    517\u001b[0m         sort_by\u001b[39m=\u001b[39;49m[\n\u001b[1;32m    518\u001b[0m             search_get_pb2\u001b[39m.\u001b[39;49mSortBy(ascending\u001b[39m=\u001b[39;49msort\u001b[39m.\u001b[39;49mascending, path\u001b[39m=\u001b[39;49m[sort\u001b[39m.\u001b[39;49mprop])\n\u001b[1;32m    519\u001b[0m             \u001b[39mfor\u001b[39;49;00m sort \u001b[39min\u001b[39;49;00m \u001b[39mself\u001b[39;49m\u001b[39m.\u001b[39;49m_sort\n\u001b[1;32m    520\u001b[0m         ]\n\u001b[1;32m    521\u001b[0m         \u001b[39mif\u001b[39;49;00m \u001b[39mself\u001b[39;49m\u001b[39m.\u001b[39;49m_sort \u001b[39mis\u001b[39;49;00m \u001b[39mnot\u001b[39;49;00m \u001b[39mNone\u001b[39;49;00m\n\u001b[1;32m    522\u001b[0m         \u001b[39melse\u001b[39;49;00m \u001b[39mNone\u001b[39;49;00m,\n\u001b[1;32m    523\u001b[0m         generative\u001b[39m=\u001b[39;49m\u001b[39mself\u001b[39;49m\u001b[39m.\u001b[39;49m_generative\u001b[39m.\u001b[39;49mto_grpc() \u001b[39mif\u001b[39;49;00m \u001b[39mself\u001b[39;49m\u001b[39m.\u001b[39;49m_generative \u001b[39mis\u001b[39;49;00m \u001b[39mnot\u001b[39;49;00m \u001b[39mNone\u001b[39;49;00m \u001b[39melse\u001b[39;49;00m \u001b[39mNone\u001b[39;49;00m,\n\u001b[1;32m    524\u001b[0m         group_by\u001b[39m=\u001b[39;49m\u001b[39mself\u001b[39;49m\u001b[39m.\u001b[39;49m_group_by\u001b[39m.\u001b[39;49mto_grpc() \u001b[39mif\u001b[39;49;00m \u001b[39mself\u001b[39;49m\u001b[39m.\u001b[39;49m_group_by \u001b[39mis\u001b[39;49;00m \u001b[39mnot\u001b[39;49;00m \u001b[39mNone\u001b[39;49;00m \u001b[39melse\u001b[39;49;00m \u001b[39mNone\u001b[39;49;00m,\n\u001b[1;32m    525\u001b[0m     ),\n\u001b[1;32m    526\u001b[0m     metadata\u001b[39m=\u001b[39;49mmetadata,\n\u001b[1;32m    527\u001b[0m )\n\u001b[1;32m    529\u001b[0m \u001b[39mreturn\u001b[39;00m res\n",
      "File \u001b[0;32m~/miniconda3/lib/python3.10/site-packages/grpc/_channel.py:1177\u001b[0m, in \u001b[0;36m_UnaryUnaryMultiCallable.with_call\u001b[0;34m(self, request, timeout, metadata, credentials, wait_for_ready, compression)\u001b[0m\n\u001b[1;32m   1171\u001b[0m (\n\u001b[1;32m   1172\u001b[0m     state,\n\u001b[1;32m   1173\u001b[0m     call,\n\u001b[1;32m   1174\u001b[0m ) \u001b[39m=\u001b[39m \u001b[39mself\u001b[39m\u001b[39m.\u001b[39m_blocking(\n\u001b[1;32m   1175\u001b[0m     request, timeout, metadata, credentials, wait_for_ready, compression\n\u001b[1;32m   1176\u001b[0m )\n\u001b[0;32m-> 1177\u001b[0m \u001b[39mreturn\u001b[39;00m _end_unary_response_blocking(state, call, \u001b[39mTrue\u001b[39;49;00m, \u001b[39mNone\u001b[39;49;00m)\n",
      "File \u001b[0;32m~/miniconda3/lib/python3.10/site-packages/grpc/_channel.py:1003\u001b[0m, in \u001b[0;36m_end_unary_response_blocking\u001b[0;34m(state, call, with_call, deadline)\u001b[0m\n\u001b[1;32m   1002\u001b[0m \u001b[39melse\u001b[39;00m:\n\u001b[0;32m-> 1003\u001b[0m     \u001b[39mraise\u001b[39;00m _InactiveRpcError(state)\n",
      "\u001b[0;31m_InactiveRpcError\u001b[0m: <_InactiveRpcError of RPC that terminated with:\n\tstatus = StatusCode.UNKNOWN\n\tdetails = \"explorer: get class: vectorize params: vectorize params: vectorize params: vectorize keywords: remote client vectorize: Cohere API Key: no api key found neither in request header: X-Cohere-Api-Key nor in environment variable under COHERE_APIKEY\"\n\tdebug_error_string = \"UNKNOWN:Error received from peer  {created_time:\"2023-11-15T14:02:28.994796-08:00\", grpc_status:2, grpc_message:\"explorer: get class: vectorize params: vectorize params: vectorize params: vectorize keywords: remote client vectorize: Cohere API Key: no api key found neither in request header: X-Cohere-Api-Key nor in environment variable under COHERE_APIKEY\"}\"\n>",
      "\nDuring handling of the above exception, another exception occurred:\n",
      "\u001b[0;31mWeaviateQueryException\u001b[0m                    Traceback (most recent call last)",
      "Cell \u001b[0;32mIn[51], line 1\u001b[0m\n\u001b[0;32m----> 1\u001b[0m response \u001b[39m=\u001b[39m vectorstore\u001b[39m.\u001b[39;49mquery\u001b[39m.\u001b[39;49mnear_text(\n\u001b[1;32m      2\u001b[0m     query\u001b[39m=\u001b[39;49m\u001b[39m\"\u001b[39;49m\u001b[39msnake\u001b[39;49m\u001b[39m\"\u001b[39;49m,\n\u001b[1;32m      3\u001b[0m     limit\u001b[39m=\u001b[39;49m\u001b[39m2\u001b[39;49m\n\u001b[1;32m      4\u001b[0m )\n",
      "File \u001b[0;32m~/miniconda3/lib/python3.10/site-packages/weaviate/collections/queries/near_text.py:110\u001b[0m, in \u001b[0;36m_NearTextQuery.near_text\u001b[0;34m(self, query, certainty, distance, move_to, move_away, limit, auto_limit, filters, return_metadata, return_properties)\u001b[0m\n\u001b[1;32m     73\u001b[0m \u001b[39m\u001b[39m\u001b[39m\"\"\"Search for objects in this collection by text using text-capable vectorisation module and vector-based similarity search.\u001b[39;00m\n\u001b[1;32m     74\u001b[0m \n\u001b[1;32m     75\u001b[0m \u001b[39mSee the [docs](https://weaviate.io/developers/weaviate/api/graphql/search-operators#neartext) for a more detailed explanation.\u001b[39;00m\n\u001b[0;32m   (...)\u001b[0m\n\u001b[1;32m    107\u001b[0m \u001b[39m        If the request to the Weaviate server fails.\u001b[39;00m\n\u001b[1;32m    108\u001b[0m \u001b[39m\"\"\"\u001b[39;00m\n\u001b[1;32m    109\u001b[0m ret_properties, ret_metadata \u001b[39m=\u001b[39m \u001b[39mself\u001b[39m\u001b[39m.\u001b[39m_parse_return_properties(return_properties)\n\u001b[0;32m--> 110\u001b[0m res \u001b[39m=\u001b[39m \u001b[39mself\u001b[39;49m\u001b[39m.\u001b[39;49m_query()\u001b[39m.\u001b[39;49mnear_text(\n\u001b[1;32m    111\u001b[0m     near_text\u001b[39m=\u001b[39;49mquery,\n\u001b[1;32m    112\u001b[0m     certainty\u001b[39m=\u001b[39;49mcertainty,\n\u001b[1;32m    113\u001b[0m     distance\u001b[39m=\u001b[39;49mdistance,\n\u001b[1;32m    114\u001b[0m     move_to\u001b[39m=\u001b[39;49mmove_to,\n\u001b[1;32m    115\u001b[0m     move_away\u001b[39m=\u001b[39;49mmove_away,\n\u001b[1;32m    116\u001b[0m     limit\u001b[39m=\u001b[39;49mlimit,\n\u001b[1;32m    117\u001b[0m     autocut\u001b[39m=\u001b[39;49mauto_limit,\n\u001b[1;32m    118\u001b[0m     filters\u001b[39m=\u001b[39;49mfilters,\n\u001b[1;32m    119\u001b[0m     return_metadata\u001b[39m=\u001b[39;49mreturn_metadata \u001b[39mor\u001b[39;49;00m ret_metadata,\n\u001b[1;32m    120\u001b[0m     return_properties\u001b[39m=\u001b[39;49mret_properties,\n\u001b[1;32m    121\u001b[0m )\n\u001b[1;32m    122\u001b[0m \u001b[39mreturn\u001b[39;00m \u001b[39mself\u001b[39m\u001b[39m.\u001b[39m_result_to_query_return(res, return_properties)\n",
      "File \u001b[0;32m~/miniconda3/lib/python3.10/site-packages/weaviate/collections/grpc/query.py:341\u001b[0m, in \u001b[0;36m_QueryGRPC.near_text\u001b[0;34m(self, near_text, certainty, distance, move_to, move_away, limit, autocut, filters, group_by, generative, return_metadata, return_properties)\u001b[0m\n\u001b[1;32m    338\u001b[0m \u001b[39mself\u001b[39m\u001b[39m.\u001b[39m_metadata \u001b[39m=\u001b[39m return_metadata\n\u001b[1;32m    339\u001b[0m \u001b[39mself\u001b[39m\u001b[39m.\u001b[39m__merge_default_and_return_properties(return_properties)\n\u001b[0;32m--> 341\u001b[0m \u001b[39mreturn\u001b[39;00m \u001b[39mself\u001b[39;49m\u001b[39m.\u001b[39;49m__call()\n",
      "File \u001b[0;32m~/miniconda3/lib/python3.10/site-packages/weaviate/collections/grpc/query.py:532\u001b[0m, in \u001b[0;36m_QueryGRPC.__call\u001b[0;34m(self)\u001b[0m\n\u001b[1;32m    529\u001b[0m     \u001b[39mreturn\u001b[39;00m res\n\u001b[1;32m    531\u001b[0m \u001b[39mexcept\u001b[39;00m grpc\u001b[39m.\u001b[39mRpcError \u001b[39mas\u001b[39;00m e:\n\u001b[0;32m--> 532\u001b[0m     \u001b[39mraise\u001b[39;00m WeaviateQueryException(e\u001b[39m.\u001b[39mdetails())\n",
      "\u001b[0;31mWeaviateQueryException\u001b[0m: Query call failed with message explorer: get class: vectorize params: vectorize params: vectorize params: vectorize keywords: remote client vectorize: Cohere API Key: no api key found neither in request header: X-Cohere-Api-Key nor in environment variable under COHERE_APIKEY."
     ]
    }
   ],
   "source": [
    "response = vectorstore.query.near_text(\n",
    "    query=\"snake\",\n",
    "    limit=2\n",
    ")"
   ]
  },
  {
   "cell_type": "code",
   "execution_count": 24,
   "metadata": {},
   "outputs": [
    {
     "ename": "WeaviateQueryException",
     "evalue": "Query call failed with message panic occurred: ValidateParam was called without any known params present.",
     "output_type": "error",
     "traceback": [
      "\u001b[0;31m---------------------------------------------------------------------------\u001b[0m",
      "\u001b[0;31m_InactiveRpcError\u001b[0m                         Traceback (most recent call last)",
      "File \u001b[0;32m~/miniconda3/lib/python3.10/site-packages/weaviate/collections/grpc/query.py:443\u001b[0m, in \u001b[0;36m_QueryGRPC.__call\u001b[0;34m(self)\u001b[0m\n\u001b[1;32m    442\u001b[0m res: SearchResponse  \u001b[39m# According to PEP-0526\u001b[39;00m\n\u001b[0;32m--> 443\u001b[0m res, _ \u001b[39m=\u001b[39m \u001b[39mself\u001b[39;49m\u001b[39m.\u001b[39;49m_connection\u001b[39m.\u001b[39;49mgrpc_stub\u001b[39m.\u001b[39;49mSearch\u001b[39m.\u001b[39;49mwith_call(\n\u001b[1;32m    444\u001b[0m     search_get_pb2\u001b[39m.\u001b[39;49mSearchRequest(\n\u001b[1;32m    445\u001b[0m         collection\u001b[39m=\u001b[39;49m\u001b[39mself\u001b[39;49m\u001b[39m.\u001b[39;49m_name,\n\u001b[1;32m    446\u001b[0m         limit\u001b[39m=\u001b[39;49m\u001b[39mself\u001b[39;49m\u001b[39m.\u001b[39;49m_limit,\n\u001b[1;32m    447\u001b[0m         offset\u001b[39m=\u001b[39;49m\u001b[39mself\u001b[39;49m\u001b[39m.\u001b[39;49m_offset,\n\u001b[1;32m    448\u001b[0m         after\u001b[39m=\u001b[39;49m\u001b[39mstr\u001b[39;49m(\u001b[39mself\u001b[39;49m\u001b[39m.\u001b[39;49m_after) \u001b[39mif\u001b[39;49;00m \u001b[39mself\u001b[39;49m\u001b[39m.\u001b[39;49m_after \u001b[39mis\u001b[39;49;00m \u001b[39mnot\u001b[39;49;00m \u001b[39mNone\u001b[39;49;00m \u001b[39melse\u001b[39;49;00m \u001b[39m\"\u001b[39;49m\u001b[39m\"\u001b[39;49m,\n\u001b[1;32m    449\u001b[0m         autocut\u001b[39m=\u001b[39;49m\u001b[39mself\u001b[39;49m\u001b[39m.\u001b[39;49m_autocut,\n\u001b[1;32m    450\u001b[0m         near_vector\u001b[39m=\u001b[39;49msearch_get_pb2\u001b[39m.\u001b[39;49mNearVector(\n\u001b[1;32m    451\u001b[0m             vector\u001b[39m=\u001b[39;49m\u001b[39mself\u001b[39;49m\u001b[39m.\u001b[39;49m_near_vector_vec,\n\u001b[1;32m    452\u001b[0m             certainty\u001b[39m=\u001b[39;49m\u001b[39mself\u001b[39;49m\u001b[39m.\u001b[39;49m_near_certainty,\n\u001b[1;32m    453\u001b[0m             distance\u001b[39m=\u001b[39;49m\u001b[39mself\u001b[39;49m\u001b[39m.\u001b[39;49m_near_distance,\n\u001b[1;32m    454\u001b[0m         )\n\u001b[1;32m    455\u001b[0m         \u001b[39mif\u001b[39;49;00m \u001b[39mself\u001b[39;49m\u001b[39m.\u001b[39;49m_near_vector_vec \u001b[39mis\u001b[39;49;00m \u001b[39mnot\u001b[39;49;00m \u001b[39mNone\u001b[39;49;00m\n\u001b[1;32m    456\u001b[0m         \u001b[39melse\u001b[39;49;00m \u001b[39mNone\u001b[39;49;00m,\n\u001b[1;32m    457\u001b[0m         near_object\u001b[39m=\u001b[39;49msearch_get_pb2\u001b[39m.\u001b[39;49mNearObject(\n\u001b[1;32m    458\u001b[0m             \u001b[39mid\u001b[39;49m\u001b[39m=\u001b[39;49m\u001b[39mstr\u001b[39;49m(\u001b[39mself\u001b[39;49m\u001b[39m.\u001b[39;49m_near_object_obj),\n\u001b[1;32m    459\u001b[0m             certainty\u001b[39m=\u001b[39;49m\u001b[39mself\u001b[39;49m\u001b[39m.\u001b[39;49m_near_certainty,\n\u001b[1;32m    460\u001b[0m             distance\u001b[39m=\u001b[39;49m\u001b[39mself\u001b[39;49m\u001b[39m.\u001b[39;49m_near_distance,\n\u001b[1;32m    461\u001b[0m         )\n\u001b[1;32m    462\u001b[0m         \u001b[39mif\u001b[39;49;00m \u001b[39mself\u001b[39;49m\u001b[39m.\u001b[39;49m_near_object_obj \u001b[39mis\u001b[39;49;00m \u001b[39mnot\u001b[39;49;00m \u001b[39mNone\u001b[39;49;00m\n\u001b[1;32m    463\u001b[0m         \u001b[39melse\u001b[39;49;00m \u001b[39mNone\u001b[39;49;00m,\n\u001b[1;32m    464\u001b[0m         properties\u001b[39m=\u001b[39;49m\u001b[39mself\u001b[39;49m\u001b[39m.\u001b[39;49m_translate_properties_from_python_to_grpc(\u001b[39mself\u001b[39;49m\u001b[39m.\u001b[39;49m_default_props),\n\u001b[1;32m    465\u001b[0m         metadata\u001b[39m=\u001b[39;49m\u001b[39mself\u001b[39;49m\u001b[39m.\u001b[39;49m_metadata_to_grpc(\u001b[39mself\u001b[39;49m\u001b[39m.\u001b[39;49m_metadata)\n\u001b[1;32m    466\u001b[0m         \u001b[39mif\u001b[39;49;00m \u001b[39mself\u001b[39;49m\u001b[39m.\u001b[39;49m_metadata \u001b[39mis\u001b[39;49;00m \u001b[39mnot\u001b[39;49;00m \u001b[39mNone\u001b[39;49;00m\n\u001b[1;32m    467\u001b[0m         \u001b[39melse\u001b[39;49;00m \u001b[39mNone\u001b[39;49;00m,\n\u001b[1;32m    468\u001b[0m         bm25_search\u001b[39m=\u001b[39;49msearch_get_pb2\u001b[39m.\u001b[39;49mBM25(\n\u001b[1;32m    469\u001b[0m             properties\u001b[39m=\u001b[39;49m\u001b[39mself\u001b[39;49m\u001b[39m.\u001b[39;49m_bm25_properties, query\u001b[39m=\u001b[39;49m\u001b[39mself\u001b[39;49m\u001b[39m.\u001b[39;49m_bm25_query\n\u001b[1;32m    470\u001b[0m         )\n\u001b[1;32m    471\u001b[0m         \u001b[39mif\u001b[39;49;00m \u001b[39mself\u001b[39;49m\u001b[39m.\u001b[39;49m_bm25_query \u001b[39mis\u001b[39;49;00m \u001b[39mnot\u001b[39;49;00m \u001b[39mNone\u001b[39;49;00m\n\u001b[1;32m    472\u001b[0m         \u001b[39melse\u001b[39;49;00m \u001b[39mNone\u001b[39;49;00m,\n\u001b[1;32m    473\u001b[0m         hybrid_search\u001b[39m=\u001b[39;49msearch_get_pb2\u001b[39m.\u001b[39;49mHybrid(\n\u001b[1;32m    474\u001b[0m             properties\u001b[39m=\u001b[39;49m\u001b[39mself\u001b[39;49m\u001b[39m.\u001b[39;49m_hybrid_properties,\n\u001b[1;32m    475\u001b[0m             query\u001b[39m=\u001b[39;49m\u001b[39mself\u001b[39;49m\u001b[39m.\u001b[39;49m_hybrid_query,\n\u001b[1;32m    476\u001b[0m             alpha\u001b[39m=\u001b[39;49m\u001b[39mself\u001b[39;49m\u001b[39m.\u001b[39;49m_hybrid_alpha,\n\u001b[1;32m    477\u001b[0m             vector\u001b[39m=\u001b[39;49m\u001b[39mself\u001b[39;49m\u001b[39m.\u001b[39;49m_hybrid_vector,\n\u001b[1;32m    478\u001b[0m             fusion_type\u001b[39m=\u001b[39;49mcast(\n\u001b[1;32m    479\u001b[0m                 search_get_pb2\u001b[39m.\u001b[39;49mHybrid\u001b[39m.\u001b[39;49mFusionType, \u001b[39mself\u001b[39;49m\u001b[39m.\u001b[39;49m_hybrid_fusion_type\n\u001b[1;32m    480\u001b[0m             ),\n\u001b[1;32m    481\u001b[0m         )\n\u001b[1;32m    482\u001b[0m         \u001b[39mif\u001b[39;49;00m \u001b[39mself\u001b[39;49m\u001b[39m.\u001b[39;49m_hybrid_query \u001b[39mis\u001b[39;49;00m \u001b[39mnot\u001b[39;49;00m \u001b[39mNone\u001b[39;49;00m\n\u001b[1;32m    483\u001b[0m         \u001b[39melse\u001b[39;49;00m \u001b[39mNone\u001b[39;49;00m,\n\u001b[1;32m    484\u001b[0m         tenant\u001b[39m=\u001b[39;49m\u001b[39mself\u001b[39;49m\u001b[39m.\u001b[39;49m_tenant,\n\u001b[1;32m    485\u001b[0m         filters\u001b[39m=\u001b[39;49m_FilterToGRPC\u001b[39m.\u001b[39;49mconvert(\u001b[39mself\u001b[39;49m\u001b[39m.\u001b[39;49m_filters),\n\u001b[1;32m    486\u001b[0m         near_text\u001b[39m=\u001b[39;49msearch_get_pb2\u001b[39m.\u001b[39;49mNearTextSearch(\n\u001b[1;32m    487\u001b[0m             query\u001b[39m=\u001b[39;49m\u001b[39mself\u001b[39;49m\u001b[39m.\u001b[39;49m_near_text,\n\u001b[1;32m    488\u001b[0m             certainty\u001b[39m=\u001b[39;49m\u001b[39mself\u001b[39;49m\u001b[39m.\u001b[39;49m_near_certainty,\n\u001b[1;32m    489\u001b[0m             distance\u001b[39m=\u001b[39;49m\u001b[39mself\u001b[39;49m\u001b[39m.\u001b[39;49m_near_distance,\n\u001b[1;32m    490\u001b[0m             move_to\u001b[39m=\u001b[39;49m\u001b[39mself\u001b[39;49m\u001b[39m.\u001b[39;49m_near_text_move_to,\n\u001b[1;32m    491\u001b[0m             move_away\u001b[39m=\u001b[39;49m\u001b[39mself\u001b[39;49m\u001b[39m.\u001b[39;49m_near_text_move_away,\n\u001b[1;32m    492\u001b[0m         )\n\u001b[1;32m    493\u001b[0m         \u001b[39mif\u001b[39;49;00m \u001b[39mself\u001b[39;49m\u001b[39m.\u001b[39;49m_near_text \u001b[39mis\u001b[39;49;00m \u001b[39mnot\u001b[39;49;00m \u001b[39mNone\u001b[39;49;00m\n\u001b[1;32m    494\u001b[0m         \u001b[39melse\u001b[39;49;00m \u001b[39mNone\u001b[39;49;00m,\n\u001b[1;32m    495\u001b[0m         near_image\u001b[39m=\u001b[39;49msearch_get_pb2\u001b[39m.\u001b[39;49mNearImageSearch(\n\u001b[1;32m    496\u001b[0m             image\u001b[39m=\u001b[39;49m\u001b[39mself\u001b[39;49m\u001b[39m.\u001b[39;49m_near_image,\n\u001b[1;32m    497\u001b[0m             distance\u001b[39m=\u001b[39;49m\u001b[39mself\u001b[39;49m\u001b[39m.\u001b[39;49m_near_distance,\n\u001b[1;32m    498\u001b[0m             certainty\u001b[39m=\u001b[39;49m\u001b[39mself\u001b[39;49m\u001b[39m.\u001b[39;49m_near_certainty,\n\u001b[1;32m    499\u001b[0m         )\n\u001b[1;32m    500\u001b[0m         \u001b[39mif\u001b[39;49;00m \u001b[39mself\u001b[39;49m\u001b[39m.\u001b[39;49m_near_image \u001b[39mis\u001b[39;49;00m \u001b[39mnot\u001b[39;49;00m \u001b[39mNone\u001b[39;49;00m\n\u001b[1;32m    501\u001b[0m         \u001b[39melse\u001b[39;49;00m \u001b[39mNone\u001b[39;49;00m,\n\u001b[1;32m    502\u001b[0m         near_video\u001b[39m=\u001b[39;49msearch_get_pb2\u001b[39m.\u001b[39;49mNearVideoSearch(\n\u001b[1;32m    503\u001b[0m             video\u001b[39m=\u001b[39;49m\u001b[39mself\u001b[39;49m\u001b[39m.\u001b[39;49m_near_video,\n\u001b[1;32m    504\u001b[0m             distance\u001b[39m=\u001b[39;49m\u001b[39mself\u001b[39;49m\u001b[39m.\u001b[39;49m_near_distance,\n\u001b[1;32m    505\u001b[0m             certainty\u001b[39m=\u001b[39;49m\u001b[39mself\u001b[39;49m\u001b[39m.\u001b[39;49m_near_certainty,\n\u001b[1;32m    506\u001b[0m         )\n\u001b[1;32m    507\u001b[0m         \u001b[39mif\u001b[39;49;00m \u001b[39mself\u001b[39;49m\u001b[39m.\u001b[39;49m_near_video \u001b[39mis\u001b[39;49;00m \u001b[39mnot\u001b[39;49;00m \u001b[39mNone\u001b[39;49;00m\n\u001b[1;32m    508\u001b[0m         \u001b[39melse\u001b[39;49;00m \u001b[39mNone\u001b[39;49;00m,\n\u001b[1;32m    509\u001b[0m         near_audio\u001b[39m=\u001b[39;49msearch_get_pb2\u001b[39m.\u001b[39;49mNearAudioSearch(\n\u001b[1;32m    510\u001b[0m             audio\u001b[39m=\u001b[39;49m\u001b[39mself\u001b[39;49m\u001b[39m.\u001b[39;49m_near_audio,\n\u001b[1;32m    511\u001b[0m             distance\u001b[39m=\u001b[39;49m\u001b[39mself\u001b[39;49m\u001b[39m.\u001b[39;49m_near_distance,\n\u001b[1;32m    512\u001b[0m             certainty\u001b[39m=\u001b[39;49m\u001b[39mself\u001b[39;49m\u001b[39m.\u001b[39;49m_near_certainty,\n\u001b[1;32m    513\u001b[0m         )\n\u001b[1;32m    514\u001b[0m         \u001b[39mif\u001b[39;49;00m \u001b[39mself\u001b[39;49m\u001b[39m.\u001b[39;49m_near_audio \u001b[39mis\u001b[39;49;00m \u001b[39mnot\u001b[39;49;00m \u001b[39mNone\u001b[39;49;00m\n\u001b[1;32m    515\u001b[0m         \u001b[39melse\u001b[39;49;00m \u001b[39mNone\u001b[39;49;00m,\n\u001b[1;32m    516\u001b[0m         consistency_level\u001b[39m=\u001b[39;49m\u001b[39mself\u001b[39;49m\u001b[39m.\u001b[39;49m_consistency_level,\n\u001b[1;32m    517\u001b[0m         sort_by\u001b[39m=\u001b[39;49m[\n\u001b[1;32m    518\u001b[0m             search_get_pb2\u001b[39m.\u001b[39;49mSortBy(ascending\u001b[39m=\u001b[39;49msort\u001b[39m.\u001b[39;49mascending, path\u001b[39m=\u001b[39;49m[sort\u001b[39m.\u001b[39;49mprop])\n\u001b[1;32m    519\u001b[0m             \u001b[39mfor\u001b[39;49;00m sort \u001b[39min\u001b[39;49;00m \u001b[39mself\u001b[39;49m\u001b[39m.\u001b[39;49m_sort\n\u001b[1;32m    520\u001b[0m         ]\n\u001b[1;32m    521\u001b[0m         \u001b[39mif\u001b[39;49;00m \u001b[39mself\u001b[39;49m\u001b[39m.\u001b[39;49m_sort \u001b[39mis\u001b[39;49;00m \u001b[39mnot\u001b[39;49;00m \u001b[39mNone\u001b[39;49;00m\n\u001b[1;32m    522\u001b[0m         \u001b[39melse\u001b[39;49;00m \u001b[39mNone\u001b[39;49;00m,\n\u001b[1;32m    523\u001b[0m         generative\u001b[39m=\u001b[39;49m\u001b[39mself\u001b[39;49m\u001b[39m.\u001b[39;49m_generative\u001b[39m.\u001b[39;49mto_grpc() \u001b[39mif\u001b[39;49;00m \u001b[39mself\u001b[39;49m\u001b[39m.\u001b[39;49m_generative \u001b[39mis\u001b[39;49;00m \u001b[39mnot\u001b[39;49;00m \u001b[39mNone\u001b[39;49;00m \u001b[39melse\u001b[39;49;00m \u001b[39mNone\u001b[39;49;00m,\n\u001b[1;32m    524\u001b[0m         group_by\u001b[39m=\u001b[39;49m\u001b[39mself\u001b[39;49m\u001b[39m.\u001b[39;49m_group_by\u001b[39m.\u001b[39;49mto_grpc() \u001b[39mif\u001b[39;49;00m \u001b[39mself\u001b[39;49m\u001b[39m.\u001b[39;49m_group_by \u001b[39mis\u001b[39;49;00m \u001b[39mnot\u001b[39;49;00m \u001b[39mNone\u001b[39;49;00m \u001b[39melse\u001b[39;49;00m \u001b[39mNone\u001b[39;49;00m,\n\u001b[1;32m    525\u001b[0m     ),\n\u001b[1;32m    526\u001b[0m     metadata\u001b[39m=\u001b[39;49mmetadata,\n\u001b[1;32m    527\u001b[0m )\n\u001b[1;32m    529\u001b[0m \u001b[39mreturn\u001b[39;00m res\n",
      "File \u001b[0;32m~/miniconda3/lib/python3.10/site-packages/grpc/_channel.py:1177\u001b[0m, in \u001b[0;36m_UnaryUnaryMultiCallable.with_call\u001b[0;34m(self, request, timeout, metadata, credentials, wait_for_ready, compression)\u001b[0m\n\u001b[1;32m   1171\u001b[0m (\n\u001b[1;32m   1172\u001b[0m     state,\n\u001b[1;32m   1173\u001b[0m     call,\n\u001b[1;32m   1174\u001b[0m ) \u001b[39m=\u001b[39m \u001b[39mself\u001b[39m\u001b[39m.\u001b[39m_blocking(\n\u001b[1;32m   1175\u001b[0m     request, timeout, metadata, credentials, wait_for_ready, compression\n\u001b[1;32m   1176\u001b[0m )\n\u001b[0;32m-> 1177\u001b[0m \u001b[39mreturn\u001b[39;00m _end_unary_response_blocking(state, call, \u001b[39mTrue\u001b[39;49;00m, \u001b[39mNone\u001b[39;49;00m)\n",
      "File \u001b[0;32m~/miniconda3/lib/python3.10/site-packages/grpc/_channel.py:1003\u001b[0m, in \u001b[0;36m_end_unary_response_blocking\u001b[0;34m(state, call, with_call, deadline)\u001b[0m\n\u001b[1;32m   1002\u001b[0m \u001b[39melse\u001b[39;00m:\n\u001b[0;32m-> 1003\u001b[0m     \u001b[39mraise\u001b[39;00m _InactiveRpcError(state)\n",
      "\u001b[0;31m_InactiveRpcError\u001b[0m: <_InactiveRpcError of RPC that terminated with:\n\tstatus = StatusCode.UNKNOWN\n\tdetails = \"panic occurred: ValidateParam was called without any known params present\"\n\tdebug_error_string = \"UNKNOWN:Error received from peer  {created_time:\"2023-11-15T13:47:32.837361-08:00\", grpc_status:2, grpc_message:\"panic occurred: ValidateParam was called without any known params present\"}\"\n>",
      "\nDuring handling of the above exception, another exception occurred:\n",
      "\u001b[0;31mWeaviateQueryException\u001b[0m                    Traceback (most recent call last)",
      "Cell \u001b[0;32mIn[24], line 4\u001b[0m\n\u001b[1;32m      1\u001b[0m \u001b[39m#vectorstore = client.collections.get(\"Question\")\u001b[39;00m\n\u001b[1;32m      2\u001b[0m vectorstore\u001b[39m.\u001b[39mdata\u001b[39m.\u001b[39minsert_many(objs)    \u001b[39m# This uses batching under the hood\u001b[39;00m\n\u001b[0;32m----> 4\u001b[0m response \u001b[39m=\u001b[39m vectorstore\u001b[39m.\u001b[39;49mquery\u001b[39m.\u001b[39;49mnear_text(\n\u001b[1;32m      5\u001b[0m     query\u001b[39m=\u001b[39;49m\u001b[39m\"\u001b[39;49m\u001b[39msnake\u001b[39;49m\u001b[39m\"\u001b[39;49m,\n\u001b[1;32m      6\u001b[0m     limit\u001b[39m=\u001b[39;49m\u001b[39m2\u001b[39;49m\n\u001b[1;32m      7\u001b[0m )\n\u001b[1;32m      9\u001b[0m \u001b[39mprint\u001b[39m(response\u001b[39m.\u001b[39mobjects[\u001b[39m0\u001b[39m]\u001b[39m.\u001b[39mproperties)  \u001b[39m# Inspect the first object\u001b[39;00m\n\u001b[1;32m     13\u001b[0m \u001b[39m# using langchain\u001b[39;00m\n",
      "File \u001b[0;32m~/miniconda3/lib/python3.10/site-packages/weaviate/collections/queries/near_text.py:110\u001b[0m, in \u001b[0;36m_NearTextQuery.near_text\u001b[0;34m(self, query, certainty, distance, move_to, move_away, limit, auto_limit, filters, return_metadata, return_properties)\u001b[0m\n\u001b[1;32m     73\u001b[0m \u001b[39m\u001b[39m\u001b[39m\"\"\"Search for objects in this collection by text using text-capable vectorisation module and vector-based similarity search.\u001b[39;00m\n\u001b[1;32m     74\u001b[0m \n\u001b[1;32m     75\u001b[0m \u001b[39mSee the [docs](https://weaviate.io/developers/weaviate/api/graphql/search-operators#neartext) for a more detailed explanation.\u001b[39;00m\n\u001b[0;32m   (...)\u001b[0m\n\u001b[1;32m    107\u001b[0m \u001b[39m        If the request to the Weaviate server fails.\u001b[39;00m\n\u001b[1;32m    108\u001b[0m \u001b[39m\"\"\"\u001b[39;00m\n\u001b[1;32m    109\u001b[0m ret_properties, ret_metadata \u001b[39m=\u001b[39m \u001b[39mself\u001b[39m\u001b[39m.\u001b[39m_parse_return_properties(return_properties)\n\u001b[0;32m--> 110\u001b[0m res \u001b[39m=\u001b[39m \u001b[39mself\u001b[39;49m\u001b[39m.\u001b[39;49m_query()\u001b[39m.\u001b[39;49mnear_text(\n\u001b[1;32m    111\u001b[0m     near_text\u001b[39m=\u001b[39;49mquery,\n\u001b[1;32m    112\u001b[0m     certainty\u001b[39m=\u001b[39;49mcertainty,\n\u001b[1;32m    113\u001b[0m     distance\u001b[39m=\u001b[39;49mdistance,\n\u001b[1;32m    114\u001b[0m     move_to\u001b[39m=\u001b[39;49mmove_to,\n\u001b[1;32m    115\u001b[0m     move_away\u001b[39m=\u001b[39;49mmove_away,\n\u001b[1;32m    116\u001b[0m     limit\u001b[39m=\u001b[39;49mlimit,\n\u001b[1;32m    117\u001b[0m     autocut\u001b[39m=\u001b[39;49mauto_limit,\n\u001b[1;32m    118\u001b[0m     filters\u001b[39m=\u001b[39;49mfilters,\n\u001b[1;32m    119\u001b[0m     return_metadata\u001b[39m=\u001b[39;49mreturn_metadata \u001b[39mor\u001b[39;49;00m ret_metadata,\n\u001b[1;32m    120\u001b[0m     return_properties\u001b[39m=\u001b[39;49mret_properties,\n\u001b[1;32m    121\u001b[0m )\n\u001b[1;32m    122\u001b[0m \u001b[39mreturn\u001b[39;00m \u001b[39mself\u001b[39m\u001b[39m.\u001b[39m_result_to_query_return(res, return_properties)\n",
      "File \u001b[0;32m~/miniconda3/lib/python3.10/site-packages/weaviate/collections/grpc/query.py:341\u001b[0m, in \u001b[0;36m_QueryGRPC.near_text\u001b[0;34m(self, near_text, certainty, distance, move_to, move_away, limit, autocut, filters, group_by, generative, return_metadata, return_properties)\u001b[0m\n\u001b[1;32m    338\u001b[0m \u001b[39mself\u001b[39m\u001b[39m.\u001b[39m_metadata \u001b[39m=\u001b[39m return_metadata\n\u001b[1;32m    339\u001b[0m \u001b[39mself\u001b[39m\u001b[39m.\u001b[39m__merge_default_and_return_properties(return_properties)\n\u001b[0;32m--> 341\u001b[0m \u001b[39mreturn\u001b[39;00m \u001b[39mself\u001b[39;49m\u001b[39m.\u001b[39;49m__call()\n",
      "File \u001b[0;32m~/miniconda3/lib/python3.10/site-packages/weaviate/collections/grpc/query.py:532\u001b[0m, in \u001b[0;36m_QueryGRPC.__call\u001b[0;34m(self)\u001b[0m\n\u001b[1;32m    529\u001b[0m     \u001b[39mreturn\u001b[39;00m res\n\u001b[1;32m    531\u001b[0m \u001b[39mexcept\u001b[39;00m grpc\u001b[39m.\u001b[39mRpcError \u001b[39mas\u001b[39;00m e:\n\u001b[0;32m--> 532\u001b[0m     \u001b[39mraise\u001b[39;00m WeaviateQueryException(e\u001b[39m.\u001b[39mdetails())\n",
      "\u001b[0;31mWeaviateQueryException\u001b[0m: Query call failed with message panic occurred: ValidateParam was called without any known params present."
     ]
    }
   ],
   "source": [
    "\n",
    "#vectorstore = client.collections.get(\"Question\")\n",
    "vectorstore.data.insert_many(objs)    # This uses batching under the hood\n",
    "\n",
    "response = vectorstore.query.near_text(\n",
    "    query=\"snake\",\n",
    "    limit=2\n",
    ")\n",
    "\n",
    "print(response.objects[0].properties)  # Inspect the first object\n",
    "\n",
    "\n",
    "\n",
    "# using langchain\n",
    "'''documents = []\n",
    "for i, test_doc in enumerate(test_documents): \n",
    "    vstore_doc = Document(\n",
    "                page_content=test_doc,\n",
    "                metadata={\n",
    "                    'source': str(i)\n",
    "                }, \n",
    "            )\n",
    "\n",
    "db = Weaviate.from_documents(documents, embeddings, index_name=\"WikipediaLangChain\", client=client, by_text=False)\n",
    "docs = db.similarity_search(\"is python compiled or interpreted?\")\n",
    "print(docs)'''\n",
    "\n"
   ]
  },
  {
   "cell_type": "code",
   "execution_count": null,
   "metadata": {},
   "outputs": [],
   "source": []
  }
 ],
 "metadata": {
  "kernelspec": {
   "display_name": "base",
   "language": "python",
   "name": "python3"
  },
  "language_info": {
   "codemirror_mode": {
    "name": "ipython",
    "version": 3
   },
   "file_extension": ".py",
   "mimetype": "text/x-python",
   "name": "python",
   "nbconvert_exporter": "python",
   "pygments_lexer": "ipython3",
   "version": "3.10.9"
  },
  "orig_nbformat": 4
 },
 "nbformat": 4,
 "nbformat_minor": 2
}
